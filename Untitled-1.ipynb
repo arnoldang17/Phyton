{
 "cells": [
  {
   "cell_type": "code",
   "execution_count": null,
   "metadata": {},
   "outputs": [],
   "source": [
    "[1]\n",
    "\n",
    "\n",
    "x = \"abc\"\n",
    "\n",
    "print(x)"
   ]
  },
  {
   "cell_type": "code",
   "execution_count": null,
   "metadata": {},
   "outputs": [],
   "source": [
    "[2]\n",
    "\n",
    "\n",
    "pi = 3.14\n",
    "\n",
    "r = input(\"value of r: \")\n",
    "\n",
    "r1 = pow(int(r),2)\n",
    "a = pi * r1\n",
    "\n",
    "\n",
    "\n",
    "print(\"Without decimals: \" + str(round(a,0)))\n",
    "print(\"With decimals: \" + str(a))\n"
   ]
  },
  {
   "cell_type": "code",
   "execution_count": 1,
   "metadata": {},
   "outputs": [
    {
     "name": "stdout",
     "output_type": "stream",
     "text": [
      "y = mx + b\n",
      "Value of y: 110\n",
      "Value of y: 1210\n"
     ]
    }
   ],
   "source": [
    "[3]\n",
    "\n",
    "print(\"y = mx + b\")\n",
    "while True:\n",
    "       \n",
    "        m = input(\"value of m: \")\n",
    "        b = input(\"value of b: \")\n",
    "        x = input(\"value of x: \")\n",
    "        y = (int(m) * int(x)) + int(b)\n",
    "\n",
    "        print(\"Value of y: \" + str (y))\n",
    "        \n",
    "        try1 = input(\"Try again? : [1] for yes [2] for no \")\n",
    "        if try1 == \"1\":\n",
    "            continue\n",
    "        else:\n",
    "            break\n",
    "    \n",
    "    \n",
    "    "
   ]
  },
  {
   "cell_type": "code",
   "execution_count": 6,
   "metadata": {},
   "outputs": [
    {
     "name": "stdout",
     "output_type": "stream",
     "text": [
      "without decimals4.47213595499958\n",
      "with decimals4.0\n"
     ]
    }
   ],
   "source": [
    "[4]\n",
    "\n",
    "import math\n",
    "\n",
    "b = input(\"value of b: \")\n",
    "c = input(\"value of c: \")\n",
    "sq = (int(b) + int(c))\n",
    "\n",
    "print(\"without decimals \" + str(math.sqrt(sq)))\n",
    "print(\"with decimals \" + str(round(math.sqrt(sq),0)))\n"
   ]
  },
  {
   "cell_type": "code",
   "execution_count": 8,
   "metadata": {},
   "outputs": [
    {
     "name": "stdout",
     "output_type": "stream",
     "text": [
      "4.0\n"
     ]
    }
   ],
   "source": [
    "[5]\n",
    "\n",
    "a = input(\"value of a: \")\n",
    "b = input(\"value of b: \")\n",
    "c = input(\"value of c: \")\n",
    "\n",
    "print(((int(a)+ int(b)) / int(c))**2)"
   ]
  },
  {
   "cell_type": "code",
   "execution_count": null,
   "metadata": {},
   "outputs": [],
   "source": [
    "[\"II\"]\n",
    "\n",
    "str = \"SBU BS Information Technology\"\n",
    "print(\"a: \\n\")\n",
    "print(\"Number 1: \" + str[ 12 : 19])\n",
    "print (\"Number 2: \" + str[ : 9])\n",
    "print(\"Number 3: \" + str[23: ])\n",
    "print(\"Number 4: \" + str[-8: -5])\n",
    "\n",
    "print(\"\\n\\nb: \\n\")\n",
    "\n",
    "print(\"Number 1: \" + str[:3])\n",
    "print(\"Number 2: \" + str[7:18])\n",
    "a = str[7:13]\n",
    "\n",
    "print(\"Number 3: \" + a.lower())\n"
   ]
  },
  {
   "cell_type": "code",
   "execution_count": 7,
   "metadata": {},
   "outputs": [
    {
     "name": "stdout",
     "output_type": "stream",
     "text": [
      "Semestral Grade: 91\n"
     ]
    }
   ],
   "source": [
    "[\"III\"]\n",
    "\n",
    "[1]\n",
    "import math\n",
    "pr = input(\"Enter grades for Prelim: \")\n",
    "mt = input(\"Enter grades for Midterm: \")\n",
    "f = input(\"Enter grades for Finals: \")\n",
    "\n",
    "sg = ((int(pr) * .3) + (int(mt) * .3) + (int(f) * .4))\n",
    "\n",
    "print (\"Semestral Grade: \" + str(math.floor(sg)))\n",
    "\n"
   ]
  },
  {
   "cell_type": "code",
   "execution_count": 9,
   "metadata": {},
   "outputs": [
    {
     "name": "stdout",
     "output_type": "stream",
     "text": [
      "1000\n"
     ]
    }
   ],
   "source": [
    "[\"III\"]\n",
    "\n",
    "[2]\n",
    "\n",
    "quantity = input (\"Enter quantity to be purchased: \")\n",
    "price = input (\"Enter unit price: \")\n",
    "discount = input (\"Enter discount (in percentage): \")\n",
    "\n",
    "sum = (int(quantity) * int(price))\n",
    "discount = (sum * (int(discount) / 100))\n",
    "all = (sum - discount)\n",
    "\n",
    "print (int(all))\n"
   ]
  },
  {
   "cell_type": "code",
   "execution_count": 11,
   "metadata": {},
   "outputs": [
    {
     "name": "stdout",
     "output_type": "stream",
     "text": [
      "first name initial: a\n",
      "middle name initial: s\n",
      "last name initial: d\n"
     ]
    }
   ],
   "source": [
    "[\"III\"]\n",
    "\n",
    "[3]\n",
    "\n",
    "allname = input(\"Your full name: \")\n",
    "\n",
    "print (\"first name initial: \" + allname[0])\n",
    "\n",
    "\n",
    "print (\"middle name initial: \" + allname[allname.find(\" \")+1])\n",
    "\n",
    "name2 = allname[allname.find(\" \")+1:]\n",
    "\n",
    "print (\"last name initial: \" + name2[name2.find(\" \")+ 1])"
   ]
  }
 ],
 "metadata": {
  "kernelspec": {
   "display_name": "Python 3.10.7 64-bit",
   "language": "python",
   "name": "python3"
  },
  "language_info": {
   "codemirror_mode": {
    "name": "ipython",
    "version": 3
   },
   "file_extension": ".py",
   "mimetype": "text/x-python",
   "name": "python",
   "nbconvert_exporter": "python",
   "pygments_lexer": "ipython3",
   "version": "3.10.7"
  },
  "orig_nbformat": 4,
  "vscode": {
   "interpreter": {
    "hash": "e593ac106456af50ce7af38f9671c411b49d6cd90f9b885e167f0f594e09038c"
   }
  }
 },
 "nbformat": 4,
 "nbformat_minor": 2
}
